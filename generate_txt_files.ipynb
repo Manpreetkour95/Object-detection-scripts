{
 "cells": [
  {
   "cell_type": "code",
   "execution_count": null,
   "id": "1a616e10",
   "metadata": {},
   "outputs": [],
   "source": [
    "import os\n",
    "import shutil\n",
    "folder = r'C:\\Users\\vikra\\OneDrive\\Documents\\important__\\tempgen\\tempate-card-generator-master\\\\pic5gen'\n",
    "desfolder=r'C:\\Users\\vikra\\OneDrive\\Documents\\important__\\tempgen\\tempate-card-generator-master\\\\alldata - Copy'\n",
    "for i in range(int(len(os.listdir(folder))/2)):\n",
    "    # Specify the path to the file you want to copy\n",
    "    source_file = 'img50.txt'\n",
    "\n",
    "    # Specify a new name for the copied file\n",
    "    new_file_name = 'imge'+str(i)+'.txt'\n",
    "\n",
    "    # Use shutil.copy() to copy the file to the destination folder with a new name\n",
    "    shutil.copy(source_file, desfolder + '//'+new_file_name)\n"
   ]
  }
 ],
 "metadata": {
  "kernelspec": {
   "display_name": "Python 3 (ipykernel)",
   "language": "python",
   "name": "python3"
  },
  "language_info": {
   "codemirror_mode": {
    "name": "ipython",
    "version": 3
   },
   "file_extension": ".py",
   "mimetype": "text/x-python",
   "name": "python",
   "nbconvert_exporter": "python",
   "pygments_lexer": "ipython3",
   "version": "3.7.6"
  }
 },
 "nbformat": 4,
 "nbformat_minor": 5
}
